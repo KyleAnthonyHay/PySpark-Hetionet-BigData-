{
 "cells": [
  {
   "cell_type": "code",
   "execution_count": 10,
   "id": "066d90fc",
   "metadata": {},
   "outputs": [
    {
     "data": {
      "text/plain": [
       "[Row(id='Anatomy::UBERON:0000002', name='uterine cervix', kind='Anatomy'),\n",
       " Row(id='Anatomy::UBERON:0000004', name='nose', kind='Anatomy'),\n",
       " Row(id='Anatomy::UBERON:0000006', name='islet of Langerhans', kind='Anatomy'),\n",
       " Row(id='Anatomy::UBERON:0000007', name='pituitary gland', kind='Anatomy')]"
      ]
     },
     "execution_count": 10,
     "metadata": {},
     "output_type": "execute_result"
    }
   ],
   "source": [
    "from pyspark.sql import SparkSession\n",
    "\n",
    "# Create a Spark session\n",
    "spark = SparkSession.builder.appName(\"example\").getOrCreate()\n",
    "\n",
    "# # Read the CSV file into a DataFrame\n",
    "nodes = spark.read.csv('nodes_test.csv', header=True) # store nodes csv\n",
    "edges = spark.read.csv('edges_test.csv', header=True) # store nodes csv\n",
    "\n",
    "# # Show the DataFrame\n",
    "nodes.take(4)"
   ]
  },
  {
   "cell_type": "code",
   "execution_count": 9,
   "id": "15813e7a",
   "metadata": {},
   "outputs": [
    {
     "data": {
      "text/plain": [
       "[Row(source='Gene::801', metaedge='GiG', target='Gene::7428'),\n",
       " Row(source='Gene::5987', metaedge='GiG', target='Gene::9412'),\n",
       " Row(source='Gene::5747', metaedge='GiG', target='Gene::79738'),\n",
       " Row(source='Gene::3725', metaedge='GiG', target='Gene::10514')]"
      ]
     },
     "execution_count": 9,
     "metadata": {},
     "output_type": "execute_result"
    }
   ],
   "source": [
    "edges.take(4)"
   ]
  },
  {
   "cell_type": "code",
   "execution_count": null,
   "id": "4fb14493",
   "metadata": {},
   "outputs": [],
   "source": []
  },
  {
   "cell_type": "code",
   "execution_count": null,
   "id": "93169d33",
   "metadata": {},
   "outputs": [],
   "source": []
  }
 ],
 "metadata": {
  "kernelspec": {
   "display_name": "Python 3 (ipykernel)",
   "language": "python",
   "name": "python3"
  },
  "language_info": {
   "codemirror_mode": {
    "name": "ipython",
    "version": 3
   },
   "file_extension": ".py",
   "mimetype": "text/x-python",
   "name": "python",
   "nbconvert_exporter": "python",
   "pygments_lexer": "ipython3",
   "version": "3.10.10"
  }
 },
 "nbformat": 4,
 "nbformat_minor": 5
}
