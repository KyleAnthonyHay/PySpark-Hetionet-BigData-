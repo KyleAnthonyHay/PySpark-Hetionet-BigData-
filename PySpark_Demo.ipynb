{
 "cells": [
  {
   "cell_type": "code",
   "execution_count": 3,
   "id": "da439c35",
   "metadata": {},
   "outputs": [
    {
     "data": {
      "text/plain": [
       "[Row(id='Anatomy::UBERON:0000002', name='uterine cervix', kind='Anatomy'),\n",
       " Row(id='Disease::DOID:0050156', name='idiopathic pulmonary fibrosis', kind='Disease'),\n",
       " Row(id='Gene::1', name='A1BG', kind='Gene'),\n",
       " Row(id='Compound::DB00014', name='Goserelin', kind='Compound')]"
      ]
     },
     "execution_count": 3,
     "metadata": {},
     "output_type": "execute_result"
    }
   ],
   "source": [
    "from pyspark.sql import SparkSession\n",
    "from pyspark.sql.functions import when, count\n",
    "\n",
    "# Create a Spark session\n",
    "spark = SparkSession.builder.appName(\"drug_associations\").getOrCreate()\n",
    "\n",
    "# # Read the CSV file into a DataFrame\n",
    "nodes = spark.read.csv('nodes_test_small.csv', header=True) # store nodes csv\n",
    "edges = spark.read.csv('edges_test_small.csv', header=True) # store nodes csv\n",
    "\n",
    "# # Show the DataFrame\n",
    "nodes.take(4)"
   ]
  },
  {
   "cell_type": "code",
   "execution_count": 5,
   "id": "969a94ed",
   "metadata": {},
   "outputs": [
    {
     "data": {
      "text/plain": [
       "[Row(source='Disease::DOID:0050156', metaedge='DdG', target='Gene::1'),\n",
       " Row(source='Compound::DB00035', metaedge='CuG', target='Gene::1'),\n",
       " Row(source='Compound::DB00035', metaedge='CrC', target='Compound::DB00014'),\n",
       " Row(source='Compound::DB00014', metaedge='CtD', target='Disease::DOID:0050156')]"
      ]
     },
     "execution_count": 5,
     "metadata": {},
     "output_type": "execute_result"
    }
   ],
   "source": [
    "edges.take(4)"
   ]
  },
  {
   "cell_type": "code",
   "execution_count": 6,
   "id": "a7e086e1",
   "metadata": {},
   "outputs": [
    {
     "name": "stdout",
     "output_type": "stream",
     "text": [
      "+-----------------+---------------+------------------+\n",
      "|           source|Number_of_Genes|Number_of_Diseases|\n",
      "+-----------------+---------------+------------------+\n",
      "|Compound::DB00035|              1|                 0|\n",
      "|Compound::DB00014|              1|                 1|\n",
      "+-----------------+---------------+------------------+\n",
      "\n"
     ]
    }
   ],
   "source": [
    "# Filter rows where source is a Compound and target is either Gene or Disease\n",
    "filtered_edges = edges.filter(\n",
    "    (edges.source.startswith(\"Compound::\")) &\n",
    "    ((edges.target.startswith(\"Gene::\")) | (edges.target.startswith(\"Disease::\")))\n",
    ")\n",
    "\n",
    "# Compute number of genes and diseases associated with each drug\n",
    "result = filtered_edges.groupBy(\"source\").agg(\n",
    "    count(when(filtered_edges.target.startswith(\"Gene::\"), 1)).alias(\"Number_of_Genes\"),\n",
    "    count(when(filtered_edges.target.startswith(\"Disease::\"), 1)).alias(\"Number_of_Diseases\")\n",
    ")\n",
    "\n",
    "# Display the result\n",
    "result.show()"
   ]
  },
  {
   "cell_type": "code",
   "execution_count": null,
   "id": "f1b41025",
   "metadata": {},
   "outputs": [],
   "source": []
  }
 ],
 "metadata": {
  "kernelspec": {
   "display_name": "Python 3 (ipykernel)",
   "language": "python",
   "name": "python3"
  },
  "language_info": {
   "codemirror_mode": {
    "name": "ipython",
    "version": 3
   },
   "file_extension": ".py",
   "mimetype": "text/x-python",
   "name": "python",
   "nbconvert_exporter": "python",
   "pygments_lexer": "ipython3",
   "version": "3.10.10"
  }
 },
 "nbformat": 4,
 "nbformat_minor": 5
}
